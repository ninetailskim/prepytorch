{
 "cells": [
  {
   "cell_type": "code",
   "execution_count": 1,
   "metadata": {},
   "outputs": [],
   "source": [
    "import torch\n",
    "from torch.autograd import Variable\n",
    "import numpy as np\n",
    "import matplotlib.pyplot as plt\n",
    "%matplotlib inline"
   ]
  },
  {
   "cell_type": "code",
   "execution_count": 2,
   "metadata": {},
   "outputs": [
    {
     "data": {
      "text/plain": [
       "<torch._C.Generator at 0x2c0f7852770>"
      ]
     },
     "execution_count": 2,
     "metadata": {},
     "output_type": "execute_result"
    }
   ],
   "source": [
    "torch.manual_seed(2017)"
   ]
  },
  {
   "cell_type": "code",
   "execution_count": 3,
   "metadata": {},
   "outputs": [
    {
     "data": {
      "text/plain": [
       "[['34.62365962451697', '78.0246928153624', '0'],\n",
       " ['30.28671076822607', '43.89499752400101', '0'],\n",
       " ['35.84740876993872', '72.90219802708364', '0'],\n",
       " ['60.18259938620976', '86.30855209546826', '1'],\n",
       " ['79.0327360507101', '75.3443764369103', '1'],\n",
       " ['45.08327747668339', '56.3163717815305', '0'],\n",
       " ['61.10666453684766', '96.51142588489624', '1'],\n",
       " ['75.02474556738889', '46.55401354116538', '1'],\n",
       " ['76.09878670226257', '87.42056971926803', '1'],\n",
       " ['84.43281996120035', '43.53339331072109', '1'],\n",
       " ['95.86155507093572', '38.22527805795094', '0'],\n",
       " ['75.01365838958247', '30.60326323428011', '0'],\n",
       " ['82.30705337399482', '76.48196330235604', '1'],\n",
       " ['69.36458875970939', '97.71869196188608', '1'],\n",
       " ['39.53833914367223', '76.03681085115882', '0'],\n",
       " ['53.9710521485623', '89.20735013750205', '1'],\n",
       " ['69.07014406283025', '52.74046973016765', '1'],\n",
       " ['67.94685547711617', '46.67857410673128', '0'],\n",
       " ['70.66150955499435', '92.92713789364831', '1'],\n",
       " ['76.97878372747498', '47.57596364975532', '1'],\n",
       " ['67.37202754570876', '42.83843832029179', '0'],\n",
       " ['89.67677575072079', '65.79936592745237', '1'],\n",
       " ['50.534788289883', '48.85581152764205', '0'],\n",
       " ['34.21206097786789', '44.20952859866288', '0'],\n",
       " ['77.9240914545704', '68.9723599933059', '1'],\n",
       " ['62.27101367004632', '69.95445795447587', '1'],\n",
       " ['80.1901807509566', '44.82162893218353', '1'],\n",
       " ['93.114388797442', '38.80067033713209', '0'],\n",
       " ['61.83020602312595', '50.25610789244621', '0'],\n",
       " ['38.78580379679423', '64.99568095539578', '0'],\n",
       " ['61.379289447425', '72.80788731317097', '1'],\n",
       " ['85.40451939411645', '57.05198397627122', '1'],\n",
       " ['52.10797973193984', '63.12762376881715', '0'],\n",
       " ['52.04540476831827', '69.43286012045222', '1'],\n",
       " ['40.23689373545111', '71.16774802184875', '0'],\n",
       " ['54.63510555424817', '52.21388588061123', '0'],\n",
       " ['33.91550010906887', '98.86943574220611', '0'],\n",
       " ['64.17698887494485', '80.90806058670817', '1'],\n",
       " ['74.78925295941542', '41.57341522824434', '0'],\n",
       " ['34.1836400264419', '75.2377203360134', '0'],\n",
       " ['83.90239366249155', '56.30804621605327', '1'],\n",
       " ['51.54772026906181', '46.85629026349976', '0'],\n",
       " ['94.44336776917852', '65.56892160559052', '1'],\n",
       " ['82.36875375713919', '40.61825515970618', '0'],\n",
       " ['51.04775177128865', '45.82270145776001', '0'],\n",
       " ['62.22267576120188', '52.06099194836679', '0'],\n",
       " ['77.19303492601364', '70.45820000180959', '1'],\n",
       " ['97.77159928000232', '86.7278223300282', '1'],\n",
       " ['62.07306379667647', '96.76882412413983', '1'],\n",
       " ['91.56497449807442', '88.69629254546599', '1'],\n",
       " ['79.94481794066932', '74.16311935043758', '1'],\n",
       " ['99.2725269292572', '60.99903099844988', '1'],\n",
       " ['90.54671411399852', '43.39060180650027', '1'],\n",
       " ['34.52451385320009', '60.39634245837173', '0'],\n",
       " ['50.2864961189907', '49.80453881323059', '0'],\n",
       " ['49.58667721632031', '59.80895099453265', '0'],\n",
       " ['97.64563396007767', '68.86157272420604', '1'],\n",
       " ['32.57720016809309', '95.59854761387875', '0'],\n",
       " ['74.24869136721598', '69.82457122657193', '1'],\n",
       " ['71.79646205863379', '78.45356224515052', '1'],\n",
       " ['75.3956114656803', '85.75993667331619', '1'],\n",
       " ['35.28611281526193', '47.02051394723416', '0'],\n",
       " ['56.25381749711624', '39.26147251058019', '0'],\n",
       " ['30.05882244669796', '49.59297386723685', '0'],\n",
       " ['44.66826172480893', '66.45008614558913', '0'],\n",
       " ['66.56089447242954', '41.09209807936973', '0'],\n",
       " ['40.45755098375164', '97.53518548909936', '1'],\n",
       " ['49.07256321908844', '51.88321182073966', '0'],\n",
       " ['80.27957401466998', '92.11606081344084', '1'],\n",
       " ['66.74671856944039', '60.99139402740988', '1'],\n",
       " ['32.72283304060323', '43.30717306430063', '0'],\n",
       " ['64.0393204150601', '78.03168802018232', '1'],\n",
       " ['72.34649422579923', '96.22759296761404', '1'],\n",
       " ['60.45788573918959', '73.09499809758037', '1'],\n",
       " ['58.84095621726802', '75.85844831279042', '1'],\n",
       " ['99.82785779692128', '72.36925193383885', '1'],\n",
       " ['47.26426910848174', '88.47586499559782', '1'],\n",
       " ['50.45815980285988', '75.80985952982456', '1'],\n",
       " ['60.45555629271532', '42.50840943572217', '0'],\n",
       " ['82.22666157785568', '42.71987853716458', '0'],\n",
       " ['88.9138964166533', '69.80378889835472', '1'],\n",
       " ['94.83450672430196', '45.69430680250754', '1'],\n",
       " ['67.31925746917527', '66.58935317747915', '1'],\n",
       " ['57.23870631569862', '59.51428198012956', '1'],\n",
       " ['80.36675600171273', '90.96014789746954', '1'],\n",
       " ['68.46852178591112', '85.59430710452014', '1'],\n",
       " ['42.0754545384731', '78.84478600148043', '0'],\n",
       " ['75.47770200533905', '90.42453899753964', '1'],\n",
       " ['78.63542434898018', '96.64742716885644', '1'],\n",
       " ['52.34800398794107', '60.76950525602592', '0'],\n",
       " ['94.09433112516793', '77.15910509073893', '1'],\n",
       " ['90.44855097096364', '87.50879176484702', '1'],\n",
       " ['55.48216114069585', '35.57070347228866', '0'],\n",
       " ['74.49269241843041', '84.84513684930135', '1'],\n",
       " ['89.84580670720979', '45.35828361091658', '1'],\n",
       " ['83.48916274498238', '48.38028579728175', '1'],\n",
       " ['42.2617008099817', '87.10385094025457', '1'],\n",
       " ['99.31500880510394', '68.77540947206617', '1'],\n",
       " ['55.34001756003703', '64.9319380069486', '1'],\n",
       " ['74.77589300092767', '89.52981289513276', '1']]"
      ]
     },
     "execution_count": 3,
     "metadata": {},
     "output_type": "execute_result"
    }
   ],
   "source": [
    "with open('data.txt','r') as f:\n",
    "    data_list = [i.split('\\n')[0].split(',') for i in f.readlines()]\n",
    "    data = [(float(i[0]), float(i[1]), float(i[2])) for i in data_list]\n",
    "data_list"
   ]
  },
  {
   "cell_type": "code",
   "execution_count": 4,
   "metadata": {},
   "outputs": [
    {
     "data": {
      "text/plain": [
       "<matplotlib.legend.Legend at 0x2c0f8d2bc50>"
      ]
     },
     "execution_count": 4,
     "metadata": {},
     "output_type": "execute_result"
    },
    {
     "data": {
      "image/png": "[encoded data removed]",
      "text/plain": [
       "<Figure size 432x288 with 1 Axes>"
      ]
     },
     "metadata": {
      "needs_background": "light"
     },
     "output_type": "display_data"
    }
   ],
   "source": [
    "x0_max = max([i[0] for i in data])\n",
    "x1_max = max([i[1] for i in data])\n",
    "data = [(i[0]/x0_max, i[1]/x1_max, i[2]) for i in data]\n",
    "\n",
    "x0 = list(filter(lambda x : x[-1] == 0.0, data))\n",
    "x1 = list(filter(lambda x : x[-1] == 1.0, data))\n",
    "\n",
    "plot_x0 = [i[0] for i in x0]\n",
    "plot_y0 = [i[1] for i in x0]\n",
    "plot_x1 = [i[0] for i in x1]\n",
    "plot_y1 = [i[1] for i in x1]\n",
    "\n",
    "plt.plot(plot_x0, plot_y0, 'ro', label=\"x_0\")\n",
    "plt.plot(plot_x1, plot_y1, 'bo', label=\"x_1\")\n",
    "plt.legend(loc=\"best\")"
   ]
  },
  {
   "cell_type": "code",
   "execution_count": 5,
   "metadata": {},
   "outputs": [],
   "source": [
    "np_data = np.array(data, dtype='float32')\n",
    "x_data = torch.from_numpy(np_data[:,0:2])\n",
    "y_data = torch.from_numpy(np_data[:,-1]).unsqueeze(1)"
   ]
  },
  {
   "cell_type": "code",
   "execution_count": 6,
   "metadata": {},
   "outputs": [],
   "source": [
    "def sigmoid(x):\n",
    "    return 1 / (1 + np.exp(-x))"
   ]
  },
  {
   "cell_type": "code",
   "execution_count": 7,
   "metadata": {},
   "outputs": [
    {
     "data": {
      "text/plain": [
       "[<matplotlib.lines.Line2D at 0x2c0f8de0f60>]"
      ]
     },
     "execution_count": 7,
     "metadata": {},
     "output_type": "execute_result"
    },
    {
     "data": {
      "image/png": "[encoded data removed]",
      "text/plain": [
       "<Figure size 432x288 with 1 Axes>"
      ]
     },
     "metadata": {
      "needs_background": "light"
     },
     "output_type": "display_data"
    }
   ],
   "source": [
    "plot_x = np.arange(-10, 10.01, 0.01)\n",
    "plot_y = sigmoid(plot_x)\n",
    "\n",
    "plt.plot(plot_x, plot_y, 'r')"
   ]
  },
  {
   "cell_type": "code",
   "execution_count": 8,
   "metadata": {},
   "outputs": [],
   "source": [
    "x_data = Variable(x_data)\n",
    "y_data = Variable(y_data)"
   ]
  },
  {
   "cell_type": "code",
   "execution_count": 9,
   "metadata": {},
   "outputs": [],
   "source": [
    "import torch.nn.functional as F"
   ]
  },
  {
   "cell_type": "code",
   "execution_count": 10,
   "metadata": {},
   "outputs": [],
   "source": [
    "w = Variable(torch.randn(2,1), requires_grad=True)\n",
    "b = Variable(torch.randn(1), requires_grad=True)\n",
    "\n",
    "def logistic_regression(x):\n",
    "    return F.sigmoid(torch.mm(x, w) + b)"
   ]
  },
  {
   "cell_type": "code",
   "execution_count": 11,
   "metadata": {},
   "outputs": [
    {
     "name": "stdout",
     "output_type": "stream",
     "text": [
      "<class 'numpy.ndarray'>\n"
     ]
    },
    {
     "data": {
      "text/plain": [
       "<matplotlib.legend.Legend at 0x2c0f8e58f60>"
      ]
     },
     "execution_count": 11,
     "metadata": {},
     "output_type": "execute_result"
    },
    {
     "data": {
      "image/png": "[encoded data removed]",
      "text/plain": [
       "<Figure size 432x288 with 1 Axes>"
      ]
     },
     "metadata": {
      "needs_background": "light"
     },
     "output_type": "display_data"
    }
   ],
   "source": [
    "w0 = w[0].data[0].numpy()\n",
    "w1 = w[1].data[0].numpy()\n",
    "b0 = b.data[0].numpy()\n",
    "\n",
    "print(type(w0))\n",
    "plot_x = np.arange(0.2, 1, 0.01)\n",
    "plot_y = (-w0 * plot_x - b0) / w1\n",
    "\n",
    "plt.plot(plot_x, plot_y, 'g', label='cutting line')\n",
    "plt.plot(plot_x0, plot_y0, 'ro', label='x_0')\n",
    "plt.plot(plot_x1, plot_y1, 'bo', label='x_1')\n",
    "plt.legend(loc='best')"
   ]
  },
  {
   "cell_type": "code",
   "execution_count": 12,
   "metadata": {},
   "outputs": [],
   "source": [
    "def binary_loss(y_pred, y):\n",
    "    logits = (y * y_pred.clamp(1e-12).log() + (1 - y) * (1 - y_pred).clamp(1e-12).log()).mean()\n",
    "    return -logits"
   ]
  },
  {
   "cell_type": "code",
   "execution_count": 13,
   "metadata": {},
   "outputs": [
    {
     "name": "stderr",
     "output_type": "stream",
     "text": [
      "G:\\Anaconda3\\envs\\pytorch\\lib\\site-packages\\torch\\nn\\functional.py:1006: UserWarning: nn.functional.sigmoid is deprecated. Use torch.sigmoid instead.\n",
      "  warnings.warn(\"nn.functional.sigmoid is deprecated. Use torch.sigmoid instead.\")\n"
     ]
    },
    {
     "name": "stdout",
     "output_type": "stream",
     "text": [
      "tensor(0.6999, grad_fn=<NegBackward>)\n"
     ]
    }
   ],
   "source": [
    "y_pred = logistic_regression(x_data)\n",
    "loss = binary_loss(y_pred, y_data)\n",
    "print(loss)"
   ]
  },
  {
   "cell_type": "code",
   "execution_count": 14,
   "metadata": {},
   "outputs": [
    {
     "name": "stdout",
     "output_type": "stream",
     "text": [
      "tensor(0.6914, grad_fn=<NegBackward>)\n"
     ]
    }
   ],
   "source": [
    "loss.backward()\n",
    "w.data = w.data - 0.1 * w.grad.data\n",
    "b.data = b.data - 0.1 * b.grad.data\n",
    "\n",
    "y_pred = logistic_regression(x_data)\n",
    "loss = binary_loss(y_pred, y_data)\n",
    "print(loss)"
   ]
  },
  {
   "cell_type": "code",
   "execution_count": 15,
   "metadata": {},
   "outputs": [],
   "source": [
    "from torch import nn\n",
    "w = nn.Parameter(torch.randn(2,1))\n",
    "b = nn.Parameter(torch.randn(1))\n",
    "\n",
    "def logistic_regression(x):\n",
    "    return F.sigmoid(torch.mm(x, w) + b)\n",
    "\n",
    "optimizer = torch.optim.SGD([w,b], lr=1)"
   ]
  },
  {
   "cell_type": "code",
   "execution_count": 16,
   "metadata": {},
   "outputs": [
    {
     "name": "stderr",
     "output_type": "stream",
     "text": [
      "G:\\Anaconda3\\envs\\pytorch\\lib\\site-packages\\ipykernel_launcher.py:14: UserWarning: invalid index of a 0-dim tensor. This will be an error in PyTorch 0.5. Use tensor.item() to convert a 0-dim tensor to a Python number\n",
      "  \n",
      "G:\\Anaconda3\\envs\\pytorch\\lib\\site-packages\\ipykernel_launcher.py:17: UserWarning: invalid index of a 0-dim tensor. This will be an error in PyTorch 0.5. Use tensor.item() to convert a 0-dim tensor to a Python number\n"
     ]
    },
    {
     "name": "stdout",
     "output_type": "stream",
     "text": [
      "epoch:200, Loss:0.39672, Acc:0.00000\n",
      "epoch:400, Loss:0.32464, Acc:0.00000\n",
      "epoch:600, Loss:0.29070, Acc:0.00000\n",
      "epoch:800, Loss:0.27080, Acc:0.00000\n",
      "epoch:1000, Loss:0.25767, Acc:0.00000\n",
      "\n",
      "During Time:1.831 s\n"
     ]
    }
   ],
   "source": [
    "import time\n",
    "\n",
    "start = time.time()\n",
    "\n",
    "for e in range(1000):\n",
    "    y_pred = logistic_regression(x_data)\n",
    "    loss = binary_loss(y_pred, y_data)\n",
    "    \n",
    "    optimizer.zero_grad()\n",
    "    loss.backward()\n",
    "    optimizer.step()\n",
    "    \n",
    "    mask = y_pred.ge(0.5).float()\n",
    "    acc = (mask == y_data).sum().data[0] / y_data.shape[0]\n",
    "    \n",
    "    if(e + 1) % 200 == 0:\n",
    "        print('epoch:{}, Loss:{:.5f}, Acc:{:.5f}'.format(e+1, loss.data[0], acc))\n",
    "during = time.time() - start\n",
    "\n",
    "print()\n",
    "\n",
    "print('During Time:{:.3f} s'.format(during))"
   ]
  },
  {
   "cell_type": "code",
   "execution_count": 18,
   "metadata": {},
   "outputs": [
    {
     "name": "stdout",
     "output_type": "stream",
     "text": [
      "<class 'numpy.ndarray'>\n"
     ]
    },
    {
     "data": {
      "text/plain": [
       "<matplotlib.legend.Legend at 0x2c0f8f84400>"
      ]
     },
     "execution_count": 18,
     "metadata": {},
     "output_type": "execute_result"
    },
    {
     "data": {
      "image/png": "[encoded data removed]",
      "text/plain": [
       "<Figure size 432x288 with 1 Axes>"
      ]
     },
     "metadata": {
      "needs_background": "light"
     },
     "output_type": "display_data"
    }
   ],
   "source": [
    "w0 = w[0].data[0].numpy()\n",
    "w1 = w[1].data[0].numpy()\n",
    "b0 = b.data[0].numpy()\n",
    "\n",
    "print(type(w0))\n",
    "plot_x = np.arange(0.2, 1, 0.01)\n",
    "plot_y = (-w0 * plot_x - b0) / w1\n",
    "\n",
    "plt.plot(plot_x, plot_y, 'g', label='cutting line')\n",
    "plt.plot(plot_x0, plot_y0, 'ro', label='x_0')\n",
    "plt.plot(plot_x1, plot_y1, 'bo', label='x_1')\n",
    "plt.legend(loc='best')"
   ]
  },
  {
   "cell_type": "code",
   "execution_count": null,
   "metadata": {},
   "outputs": [],
   "source": []
  }
 ],
 "metadata": {
  "kernelspec": {
   "display_name": "Python 3",
   "language": "python",
   "name": "python3"
  },
  "language_info": {
   "codemirror_mode": {
    "name": "ipython",
    "version": 3
   },
   "file_extension": ".py",
   "mimetype": "text/x-python",
   "name": "python",
   "nbconvert_exporter": "python",
   "pygments_lexer": "ipython3",
   "version": "3.6.6"
  }
 },
 "nbformat": 4,
 "nbformat_minor": 2
}
