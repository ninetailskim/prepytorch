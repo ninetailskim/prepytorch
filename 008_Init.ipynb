{
 "cells": [
  {
   "cell_type": "markdown",
   "metadata": {},
   "source": [
    "#可以通过numpy里面的randn的函数\n",
    "#也可以使用torch.nn.init"
   ]
  },
  {
   "cell_type": "code",
   "execution_count": 1,
   "metadata": {},
   "outputs": [],
   "source": [
    "import numpy as np\n",
    "import torch\n",
    "from torch import nn\n",
    "from torch.nn import init"
   ]
  },
  {
   "cell_type": "code",
   "execution_count": 2,
   "metadata": {},
   "outputs": [],
   "source": [
    "net1 = nn.Sequential(\n",
    "    nn.Linear(30,40),\n",
    "    nn.ReLU(),\n",
    "    nn.Linear(40,50),\n",
    "    nn.ReLU(),\n",
    "    nn.Linear(50,10),\n",
    ")"
   ]
  },
  {
   "cell_type": "code",
   "execution_count": 3,
   "metadata": {},
   "outputs": [],
   "source": [
    "w1 = net1[0].weight\n",
    "b1 = net1[0].bias"
   ]
  },
  {
   "cell_type": "code",
   "execution_count": 4,
   "metadata": {},
   "outputs": [
    {
     "name": "stdout",
     "output_type": "stream",
     "text": [
      "Parameter containing:\n",
      "tensor([[-0.0508,  0.1135, -0.0234,  ..., -0.1585,  0.0601, -0.0827],\n",
      "        [ 0.0958,  0.1642, -0.0068,  ..., -0.0173, -0.1757, -0.0912],\n",
      "        [-0.0360, -0.1141,  0.0361,  ...,  0.1781,  0.0841,  0.0002],\n",
      "        ...,\n",
      "        [ 0.0022, -0.0820,  0.0059,  ..., -0.0404,  0.1026,  0.0573],\n",
      "        [-0.0076, -0.1653,  0.0814,  ...,  0.0689, -0.1460,  0.0070],\n",
      "        [ 0.1652, -0.1187,  0.0478,  ...,  0.1120,  0.1181,  0.1450]],\n",
      "       requires_grad=True)\n"
     ]
    }
   ],
   "source": [
    "print(w1)"
   ]
  },
  {
   "cell_type": "code",
   "execution_count": 5,
   "metadata": {},
   "outputs": [],
   "source": [
    "net1[0].weight.data = torch.from_numpy(np.random.uniform(3,5, size=(40,30)))"
   ]
  },
  {
   "cell_type": "code",
   "execution_count": 6,
   "metadata": {},
   "outputs": [
    {
     "name": "stdout",
     "output_type": "stream",
     "text": [
      "Parameter containing:\n",
      "tensor([[4.7073, 3.0703, 4.7657,  ..., 3.5588, 3.7029, 3.7951],\n",
      "        [3.6191, 3.2580, 3.1927,  ..., 4.5663, 4.5180, 4.1720],\n",
      "        [3.9364, 3.5729, 3.5927,  ..., 3.8220, 3.7143, 3.0620],\n",
      "        ...,\n",
      "        [4.6841, 4.4514, 3.3446,  ..., 3.2447, 4.6263, 4.4728],\n",
      "        [4.0476, 4.5448, 3.2689,  ..., 3.3257, 4.8336, 3.6859],\n",
      "        [4.1710, 3.5046, 3.2936,  ..., 3.3087, 4.3858, 3.8956]],\n",
      "       dtype=torch.float64, requires_grad=True)\n"
     ]
    }
   ],
   "source": [
    "print(net1[0].weight)"
   ]
  },
  {
   "cell_type": "code",
   "execution_count": 7,
   "metadata": {},
   "outputs": [],
   "source": [
    "for layer in net1:\n",
    "    if isinstance(layer, nn.Linear):\n",
    "        param_shape = layer.weight.shape\n",
    "        layer.weight.data = torch.from_numpy(np.random.normal(0, 0.5, size=param_shape))"
   ]
  },
  {
   "cell_type": "markdown",
   "metadata": {},
   "source": [
    "#使用module的好处是不仅可以打印出Sequential, 而且可以看到sequential里面的内容"
   ]
  },
  {
   "cell_type": "code",
   "execution_count": null,
   "metadata": {},
   "outputs": [],
   "source": [
    "init.xavier_uniform(net1[0].weight)"
   ]
  }
 ],
 "metadata": {
  "kernelspec": {
   "display_name": "Python 3",
   "language": "python",
   "name": "python3"
  },
  "language_info": {
   "codemirror_mode": {
    "name": "ipython",
    "version": 3
   },
   "file_extension": ".py",
   "mimetype": "text/x-python",
   "name": "python",
   "nbconvert_exporter": "python",
   "pygments_lexer": "ipython3",
   "version": "3.6.6"
  }
 },
 "nbformat": 4,
 "nbformat_minor": 2
}
