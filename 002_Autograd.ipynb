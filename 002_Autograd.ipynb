{
 "cells": [
  {
   "cell_type": "code",
   "execution_count": 1,
   "metadata": {},
   "outputs": [],
   "source": [
    "import torch\n",
    "from torch.autograd import Variable"
   ]
  },
  {
   "cell_type": "code",
   "execution_count": 2,
   "metadata": {},
   "outputs": [
    {
     "name": "stdout",
     "output_type": "stream",
     "text": [
      "tensor([28.], grad_fn=<AddBackward>)\n"
     ]
    }
   ],
   "source": [
    "x = Variable(torch.Tensor([3]), requires_grad=True)\n",
    "y = x + 2\n",
    "z = y ** 2 + 3\n",
    "print(z)"
   ]
  },
  {
   "cell_type": "code",
   "execution_count": 3,
   "metadata": {},
   "outputs": [
    {
     "name": "stdout",
     "output_type": "stream",
     "text": [
      "tensor([10.])\n",
      "None\n"
     ]
    }
   ],
   "source": [
    "z.backward()\n",
    "print(x.grad)\n",
    "print(y.grad)"
   ]
  },
  {
   "cell_type": "code",
   "execution_count": 5,
   "metadata": {},
   "outputs": [],
   "source": [
    "x = Variable(torch.randn(10,20), requires_grad=True)\n",
    "y = Variable(torch.randn(10,5), requires_grad=True)\n",
    "w = Variable(torch.randn(20,5), requires_grad=True)\n",
    "\n",
    "out = torch.mean(y - torch.matmul(x,w))\n",
    "out.backward()"
   ]
  },
  {
   "cell_type": "code",
   "execution_count": 8,
   "metadata": {},
   "outputs": [
    {
     "name": "stdout",
     "output_type": "stream",
     "text": [
      "tensor(-1.5851, grad_fn=<MeanBackward1>)\n",
      "tensor([[-0.2525,  1.2414, -1.8201,  1.0864,  0.5672],\n",
      "        [-0.5395,  1.2288,  1.5083,  1.9086,  0.4939],\n",
      "        [-0.6686,  1.8864, -1.4489, -0.9850, -0.5724],\n",
      "        [ 0.6046, -0.6563, -1.1607,  1.7150, -0.6291],\n",
      "        [-0.3577, -1.2306,  0.1984, -0.1651, -1.3576],\n",
      "        [-0.9312, -1.8042, -0.1648,  1.6673, -0.7254],\n",
      "        [-1.2471,  0.2777,  1.6130,  1.0415,  1.9120],\n",
      "        [ 0.2783, -0.2626, -0.2481,  0.6003, -1.0160],\n",
      "        [-0.3646, -0.2908, -0.3929,  1.5981,  1.8916],\n",
      "        [-0.5174,  0.3501,  0.3844,  0.3526,  1.6261],\n",
      "        [ 1.5008,  1.1453, -0.3024,  1.2428,  1.8213],\n",
      "        [-1.3360,  1.6648,  0.1324,  0.7685,  1.2900],\n",
      "        [-0.7460,  0.9854, -2.0713,  0.1529, -1.8793],\n",
      "        [ 1.2636, -0.6143,  0.8207, -0.2635,  0.6034],\n",
      "        [ 0.3322,  0.9147,  0.8122,  0.4643, -0.4610],\n",
      "        [-1.5785,  1.8645, -0.0624,  0.8085, -0.1897],\n",
      "        [ 0.1966,  1.6775,  0.0120,  0.4063, -0.2157],\n",
      "        [-1.4671,  1.2474,  0.2547, -0.0291, -2.3507],\n",
      "        [ 1.5318,  0.6331,  0.3451, -0.4685,  0.4754],\n",
      "        [ 1.6242,  0.6033,  0.7412, -1.3483,  0.9215]], requires_grad=True)\n",
      "-------------------------------------------------\n",
      "tensor([[-0.0164, -0.0920,  0.0358,  0.0025,  0.0583,  0.0392, -0.0719,  0.0130,\n",
      "         -0.0488, -0.0439, -0.1082, -0.0504,  0.0712, -0.0362, -0.0412, -0.0168,\n",
      "         -0.0415,  0.0469, -0.0503, -0.0508],\n",
      "        [-0.0164, -0.0920,  0.0358,  0.0025,  0.0583,  0.0392, -0.0719,  0.0130,\n",
      "         -0.0488, -0.0439, -0.1082, -0.0504,  0.0712, -0.0362, -0.0412, -0.0168,\n",
      "         -0.0415,  0.0469, -0.0503, -0.0508],\n",
      "        [-0.0164, -0.0920,  0.0358,  0.0025,  0.0583,  0.0392, -0.0719,  0.0130,\n",
      "         -0.0488, -0.0439, -0.1082, -0.0504,  0.0712, -0.0362, -0.0412, -0.0168,\n",
      "         -0.0415,  0.0469, -0.0503, -0.0508],\n",
      "        [-0.0164, -0.0920,  0.0358,  0.0025,  0.0583,  0.0392, -0.0719,  0.0130,\n",
      "         -0.0488, -0.0439, -0.1082, -0.0504,  0.0712, -0.0362, -0.0412, -0.0168,\n",
      "         -0.0415,  0.0469, -0.0503, -0.0508],\n",
      "        [-0.0164, -0.0920,  0.0358,  0.0025,  0.0583,  0.0392, -0.0719,  0.0130,\n",
      "         -0.0488, -0.0439, -0.1082, -0.0504,  0.0712, -0.0362, -0.0412, -0.0168,\n",
      "         -0.0415,  0.0469, -0.0503, -0.0508],\n",
      "        [-0.0164, -0.0920,  0.0358,  0.0025,  0.0583,  0.0392, -0.0719,  0.0130,\n",
      "         -0.0488, -0.0439, -0.1082, -0.0504,  0.0712, -0.0362, -0.0412, -0.0168,\n",
      "         -0.0415,  0.0469, -0.0503, -0.0508],\n",
      "        [-0.0164, -0.0920,  0.0358,  0.0025,  0.0583,  0.0392, -0.0719,  0.0130,\n",
      "         -0.0488, -0.0439, -0.1082, -0.0504,  0.0712, -0.0362, -0.0412, -0.0168,\n",
      "         -0.0415,  0.0469, -0.0503, -0.0508],\n",
      "        [-0.0164, -0.0920,  0.0358,  0.0025,  0.0583,  0.0392, -0.0719,  0.0130,\n",
      "         -0.0488, -0.0439, -0.1082, -0.0504,  0.0712, -0.0362, -0.0412, -0.0168,\n",
      "         -0.0415,  0.0469, -0.0503, -0.0508],\n",
      "        [-0.0164, -0.0920,  0.0358,  0.0025,  0.0583,  0.0392, -0.0719,  0.0130,\n",
      "         -0.0488, -0.0439, -0.1082, -0.0504,  0.0712, -0.0362, -0.0412, -0.0168,\n",
      "         -0.0415,  0.0469, -0.0503, -0.0508],\n",
      "        [-0.0164, -0.0920,  0.0358,  0.0025,  0.0583,  0.0392, -0.0719,  0.0130,\n",
      "         -0.0488, -0.0439, -0.1082, -0.0504,  0.0712, -0.0362, -0.0412, -0.0168,\n",
      "         -0.0415,  0.0469, -0.0503, -0.0508]])\n",
      "-------------------------------------------------\n",
      "tensor([[0.0200, 0.0200, 0.0200, 0.0200, 0.0200],\n",
      "        [0.0200, 0.0200, 0.0200, 0.0200, 0.0200],\n",
      "        [0.0200, 0.0200, 0.0200, 0.0200, 0.0200],\n",
      "        [0.0200, 0.0200, 0.0200, 0.0200, 0.0200],\n",
      "        [0.0200, 0.0200, 0.0200, 0.0200, 0.0200],\n",
      "        [0.0200, 0.0200, 0.0200, 0.0200, 0.0200],\n",
      "        [0.0200, 0.0200, 0.0200, 0.0200, 0.0200],\n",
      "        [0.0200, 0.0200, 0.0200, 0.0200, 0.0200],\n",
      "        [0.0200, 0.0200, 0.0200, 0.0200, 0.0200],\n",
      "        [0.0200, 0.0200, 0.0200, 0.0200, 0.0200]])\n"
     ]
    }
   ],
   "source": [
    "print(out)\n",
    "print(w)\n",
    "print(\"-------------------------------------------------\")\n",
    "print(x.grad)\n",
    "print(\"-------------------------------------------------\")\n",
    "print(y.grad)"
   ]
  },
  {
   "cell_type": "code",
   "execution_count": 7,
   "metadata": {},
   "outputs": [
    {
     "name": "stdout",
     "output_type": "stream",
     "text": [
      "0.02\n"
     ]
    }
   ],
   "source": [
    "print(1/50)"
   ]
  },
  {
   "cell_type": "code",
   "execution_count": 16,
   "metadata": {},
   "outputs": [
    {
     "name": "stdout",
     "output_type": "stream",
     "text": [
      "tensor([[2., 3.]], requires_grad=True)\n",
      "tensor([[0., 0.]])\n"
     ]
    }
   ],
   "source": [
    "m = Variable(torch.FloatTensor([[2,3]]), requires_grad=True)\n",
    "n = Variable(torch.zeros(1,2))\n",
    "print(m)\n",
    "print(n)"
   ]
  },
  {
   "cell_type": "code",
   "execution_count": 17,
   "metadata": {},
   "outputs": [
    {
     "name": "stdout",
     "output_type": "stream",
     "text": [
      "tensor([[ 4., 27.]], grad_fn=<CopySlices>)\n"
     ]
    }
   ],
   "source": [
    "n[0,0] = m[0,0] ** 2\n",
    "n[0,1] = m[0,1] ** 3\n",
    "print(n)"
   ]
  },
  {
   "cell_type": "code",
   "execution_count": 19,
   "metadata": {},
   "outputs": [],
   "source": [
    "n.backward(torch.ones_like(n))"
   ]
  },
  {
   "cell_type": "code",
   "execution_count": 12,
   "metadata": {},
   "outputs": [
    {
     "name": "stdout",
     "output_type": "stream",
     "text": [
      "tensor([[ 4., 27.]])\n"
     ]
    }
   ],
   "source": [
    "print(m.grad)"
   ]
  },
  {
   "cell_type": "code",
   "execution_count": 24,
   "metadata": {},
   "outputs": [
    {
     "name": "stdout",
     "output_type": "stream",
     "text": [
      "tensor([18.], grad_fn=<AddBackward>)\n"
     ]
    }
   ],
   "source": [
    "x = Variable(torch.FloatTensor([3]), requires_grad=True)\n",
    "y = x * 2 + x ** 2 + 3\n",
    "print(y)"
   ]
  },
  {
   "cell_type": "code",
   "execution_count": 25,
   "metadata": {},
   "outputs": [],
   "source": [
    "y.backward(retain_graph=True)"
   ]
  },
  {
   "cell_type": "code",
   "execution_count": 26,
   "metadata": {},
   "outputs": [
    {
     "name": "stdout",
     "output_type": "stream",
     "text": [
      "tensor([8.])\n"
     ]
    }
   ],
   "source": [
    "print(x.grad)"
   ]
  },
  {
   "cell_type": "code",
   "execution_count": 27,
   "metadata": {},
   "outputs": [],
   "source": [
    "############################################\n",
    "x = Variable(torch.FloatTensor([2,3]), requires_grad=True)\n",
    "k = Variable(torch.zeros([2]))\n",
    "k[0] = x[0] ** 2 + 3 * x[1]\n",
    "k[1] = x[0] * 2 + x[1] ** 2"
   ]
  },
  {
   "cell_type": "code",
   "execution_count": 28,
   "metadata": {},
   "outputs": [],
   "source": [
    "j = torch.zeros(2,2)"
   ]
  },
  {
   "cell_type": "code",
   "execution_count": 29,
   "metadata": {},
   "outputs": [
    {
     "name": "stdout",
     "output_type": "stream",
     "text": [
      "tensor([[4., 3.],\n",
      "        [2., 6.]])\n"
     ]
    }
   ],
   "source": [
    "k.backward(torch.FloatTensor([1,0]), retain_graph=True)\n",
    "j[0] = x.grad.data\n",
    "\n",
    "x.grad.data.zero_()\n",
    "\n",
    "k.backward(torch.FloatTensor([0,1]))\n",
    "j[1] = x.grad.data\n",
    "\n",
    "print(j)"
   ]
  },
  {
   "cell_type": "code",
   "execution_count": null,
   "metadata": {},
   "outputs": [],
   "source": []
  }
 ],
 "metadata": {
  "kernelspec": {
   "display_name": "Python 3",
   "language": "python",
   "name": "python3"
  },
  "language_info": {
   "codemirror_mode": {
    "name": "ipython",
    "version": 3
   },
   "file_extension": ".py",
   "mimetype": "text/x-python",
   "name": "python",
   "nbconvert_exporter": "python",
   "pygments_lexer": "ipython3",
   "version": "3.6.6"
  }
 },
 "nbformat": 4,
 "nbformat_minor": 2
}
