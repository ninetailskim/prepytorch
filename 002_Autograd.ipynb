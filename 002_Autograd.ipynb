{
 "cells": [
  {
   "cell_type": "code",
   "execution_count": 1,
   "metadata": {},
   "outputs": [],
   "source": [
    "import torch\n",
    "from torch.autograd import Variable"
   ]
  },
  {
   "cell_type": "code",
   "execution_count": 2,
   "metadata": {},
   "outputs": [
    {
     "name": "stdout",
     "output_type": "stream",
     "text": [
      "tensor([28.], grad_fn=<AddBackward0>)\n"
     ]
    }
   ],
   "source": [
    "x = Variable(torch.Tensor([3]), requires_grad=True)\n",
    "y = x + 2\n",
    "z = y ** 2 + 3\n",
    "print(z)"
   ]
  },
  {
   "cell_type": "code",
   "execution_count": 3,
   "metadata": {},
   "outputs": [
    {
     "name": "stdout",
     "output_type": "stream",
     "text": [
      "tensor([10.])\n",
      "None\n"
     ]
    }
   ],
   "source": [
    "z.backward()\n",
    "print(x.grad)\n",
    "print(y.grad)"
   ]
  },
  {
   "cell_type": "code",
   "execution_count": 4,
   "metadata": {},
   "outputs": [],
   "source": [
    "x = Variable(torch.randn(10,20), requires_grad=True)\n",
    "y = Variable(torch.randn(10,5), requires_grad=True)\n",
    "w = Variable(torch.randn(20,5), requires_grad=True)\n",
    "\n",
    "out = torch.mean(y - torch.matmul(x,w))\n",
    "out.backward()"
   ]
  },
  {
   "cell_type": "code",
   "execution_count": 5,
   "metadata": {},
   "outputs": [
    {
     "name": "stdout",
     "output_type": "stream",
     "text": [
      "tensor(-0.6770, grad_fn=<MeanBackward0>)\n",
      "tensor([[-1.1515,  0.9851, -0.4289, -0.1007, -0.2042],\n",
      "        [ 0.3661, -0.6683,  0.7504,  1.0466,  0.4169],\n",
      "        [ 2.1582,  0.3418,  1.1201,  0.3889, -0.7893],\n",
      "        [-0.8802,  1.0367, -1.4780, -0.6447, -0.1093],\n",
      "        [ 1.0758, -0.4516,  0.0597,  0.2982, -1.4036],\n",
      "        [-1.2816,  1.5309,  0.5316, -1.4740, -0.1746],\n",
      "        [ 0.0929,  0.3839,  0.1092,  0.2556, -0.2329],\n",
      "        [-0.7431,  0.2179, -1.1594, -1.2587, -1.4649],\n",
      "        [ 0.6931, -0.7682,  0.1756, -0.2580, -1.1667],\n",
      "        [ 0.8584, -0.5656, -0.5212, -1.8810, -0.4311],\n",
      "        [ 1.0075,  0.1831,  0.8959,  1.4151, -0.2067],\n",
      "        [-2.4706, -1.3331, -0.0453, -0.6152, -0.8204],\n",
      "        [-0.4097, -0.1410,  2.9231,  0.3808,  0.8342],\n",
      "        [ 0.4871,  0.7377, -1.0266, -1.2563, -1.0410],\n",
      "        [-0.8723,  0.4107, -0.3253, -0.0375,  0.2994],\n",
      "        [ 1.6656,  1.2027, -1.2423,  0.0211, -0.2989],\n",
      "        [ 0.8355,  0.5567,  1.0861,  0.9256,  1.2238],\n",
      "        [ 1.2010,  0.7069,  1.3558,  0.4396, -2.5204],\n",
      "        [-0.8463, -0.6838, -0.9577,  0.4452, -0.7986],\n",
      "        [ 1.2037,  0.7325, -0.9474, -0.1601, -1.6467]], requires_grad=True)\n",
      "-------------------------------------------------\n",
      "tensor([[ 0.0180, -0.0382, -0.0644,  0.0415,  0.0084,  0.0174, -0.0122,  0.0882,\n",
      "          0.0265,  0.0508, -0.0659,  0.1057, -0.0717,  0.0420,  0.0105, -0.0270,\n",
      "         -0.0926, -0.0237,  0.0568,  0.0164],\n",
      "        [ 0.0180, -0.0382, -0.0644,  0.0415,  0.0084,  0.0174, -0.0122,  0.0882,\n",
      "          0.0265,  0.0508, -0.0659,  0.1057, -0.0717,  0.0420,  0.0105, -0.0270,\n",
      "         -0.0926, -0.0237,  0.0568,  0.0164],\n",
      "        [ 0.0180, -0.0382, -0.0644,  0.0415,  0.0084,  0.0174, -0.0122,  0.0882,\n",
      "          0.0265,  0.0508, -0.0659,  0.1057, -0.0717,  0.0420,  0.0105, -0.0270,\n",
      "         -0.0926, -0.0237,  0.0568,  0.0164],\n",
      "        [ 0.0180, -0.0382, -0.0644,  0.0415,  0.0084,  0.0174, -0.0122,  0.0882,\n",
      "          0.0265,  0.0508, -0.0659,  0.1057, -0.0717,  0.0420,  0.0105, -0.0270,\n",
      "         -0.0926, -0.0237,  0.0568,  0.0164],\n",
      "        [ 0.0180, -0.0382, -0.0644,  0.0415,  0.0084,  0.0174, -0.0122,  0.0882,\n",
      "          0.0265,  0.0508, -0.0659,  0.1057, -0.0717,  0.0420,  0.0105, -0.0270,\n",
      "         -0.0926, -0.0237,  0.0568,  0.0164],\n",
      "        [ 0.0180, -0.0382, -0.0644,  0.0415,  0.0084,  0.0174, -0.0122,  0.0882,\n",
      "          0.0265,  0.0508, -0.0659,  0.1057, -0.0717,  0.0420,  0.0105, -0.0270,\n",
      "         -0.0926, -0.0237,  0.0568,  0.0164],\n",
      "        [ 0.0180, -0.0382, -0.0644,  0.0415,  0.0084,  0.0174, -0.0122,  0.0882,\n",
      "          0.0265,  0.0508, -0.0659,  0.1057, -0.0717,  0.0420,  0.0105, -0.0270,\n",
      "         -0.0926, -0.0237,  0.0568,  0.0164],\n",
      "        [ 0.0180, -0.0382, -0.0644,  0.0415,  0.0084,  0.0174, -0.0122,  0.0882,\n",
      "          0.0265,  0.0508, -0.0659,  0.1057, -0.0717,  0.0420,  0.0105, -0.0270,\n",
      "         -0.0926, -0.0237,  0.0568,  0.0164],\n",
      "        [ 0.0180, -0.0382, -0.0644,  0.0415,  0.0084,  0.0174, -0.0122,  0.0882,\n",
      "          0.0265,  0.0508, -0.0659,  0.1057, -0.0717,  0.0420,  0.0105, -0.0270,\n",
      "         -0.0926, -0.0237,  0.0568,  0.0164],\n",
      "        [ 0.0180, -0.0382, -0.0644,  0.0415,  0.0084,  0.0174, -0.0122,  0.0882,\n",
      "          0.0265,  0.0508, -0.0659,  0.1057, -0.0717,  0.0420,  0.0105, -0.0270,\n",
      "         -0.0926, -0.0237,  0.0568,  0.0164]])\n",
      "-------------------------------------------------\n",
      "tensor([[0.0200, 0.0200, 0.0200, 0.0200, 0.0200],\n",
      "        [0.0200, 0.0200, 0.0200, 0.0200, 0.0200],\n",
      "        [0.0200, 0.0200, 0.0200, 0.0200, 0.0200],\n",
      "        [0.0200, 0.0200, 0.0200, 0.0200, 0.0200],\n",
      "        [0.0200, 0.0200, 0.0200, 0.0200, 0.0200],\n",
      "        [0.0200, 0.0200, 0.0200, 0.0200, 0.0200],\n",
      "        [0.0200, 0.0200, 0.0200, 0.0200, 0.0200],\n",
      "        [0.0200, 0.0200, 0.0200, 0.0200, 0.0200],\n",
      "        [0.0200, 0.0200, 0.0200, 0.0200, 0.0200],\n",
      "        [0.0200, 0.0200, 0.0200, 0.0200, 0.0200]])\n"
     ]
    }
   ],
   "source": [
    "print(out)\n",
    "print(w)\n",
    "print(\"-------------------------------------------------\")\n",
    "print(x.grad)\n",
    "print(\"-------------------------------------------------\")\n",
    "print(y.grad)"
   ]
  },
  {
   "cell_type": "code",
   "execution_count": 6,
   "metadata": {},
   "outputs": [
    {
     "name": "stdout",
     "output_type": "stream",
     "text": [
      "0.02\n"
     ]
    }
   ],
   "source": [
    "print(1/50)"
   ]
  },
  {
   "cell_type": "code",
   "execution_count": 7,
   "metadata": {},
   "outputs": [
    {
     "name": "stdout",
     "output_type": "stream",
     "text": [
      "tensor([[2., 3.]], requires_grad=True)\n",
      "tensor([[0., 0.]])\n"
     ]
    }
   ],
   "source": [
    "m = Variable(torch.FloatTensor([[2,3]]), requires_grad=True)\n",
    "n = Variable(torch.zeros(1,2))\n",
    "print(m)\n",
    "print(n)"
   ]
  },
  {
   "cell_type": "code",
   "execution_count": 17,
   "metadata": {},
   "outputs": [
    {
     "name": "stdout",
     "output_type": "stream",
     "text": [
      "tensor([[ 4., 27.]], grad_fn=<CopySlices>)\n"
     ]
    }
   ],
   "source": [
    "n[0,0] = m[0,0] ** 2\n",
    "n[0,1] = m[0,1] ** 3\n",
    "print(n)"
   ]
  },
  {
   "cell_type": "code",
   "execution_count": 19,
   "metadata": {},
   "outputs": [],
   "source": [
    "n.backward(torch.ones_like(n))"
   ]
  },
  {
   "cell_type": "code",
   "execution_count": 12,
   "metadata": {},
   "outputs": [
    {
     "name": "stdout",
     "output_type": "stream",
     "text": [
      "tensor([[ 4., 27.]])\n"
     ]
    }
   ],
   "source": [
    "print(m.grad)"
   ]
  },
  {
   "cell_type": "code",
   "execution_count": 24,
   "metadata": {},
   "outputs": [
    {
     "name": "stdout",
     "output_type": "stream",
     "text": [
      "tensor([18.], grad_fn=<AddBackward>)\n"
     ]
    }
   ],
   "source": [
    "x = Variable(torch.FloatTensor([3]), requires_grad=True)\n",
    "y = x * 2 + x ** 2 + 3\n",
    "print(y)"
   ]
  },
  {
   "cell_type": "code",
   "execution_count": 25,
   "metadata": {},
   "outputs": [],
   "source": [
    "y.backward(retain_graph=True)"
   ]
  },
  {
   "cell_type": "code",
   "execution_count": 26,
   "metadata": {},
   "outputs": [
    {
     "name": "stdout",
     "output_type": "stream",
     "text": [
      "tensor([8.])\n"
     ]
    }
   ],
   "source": [
    "print(x.grad)"
   ]
  },
  {
   "cell_type": "code",
   "execution_count": 27,
   "metadata": {},
   "outputs": [],
   "source": [
    "############################################\n",
    "x = Variable(torch.FloatTensor([2,3]), requires_grad=True)\n",
    "k = Variable(torch.zeros([2]))\n",
    "k[0] = x[0] ** 2 + 3 * x[1]\n",
    "k[1] = x[0] * 2 + x[1] ** 2"
   ]
  },
  {
   "cell_type": "code",
   "execution_count": 28,
   "metadata": {},
   "outputs": [],
   "source": [
    "j = torch.zeros(2,2)"
   ]
  },
  {
   "cell_type": "code",
   "execution_count": 29,
   "metadata": {},
   "outputs": [
    {
     "name": "stdout",
     "output_type": "stream",
     "text": [
      "tensor([[4., 3.],\n",
      "        [2., 6.]])\n"
     ]
    }
   ],
   "source": [
    "k.backward(torch.FloatTensor([1,0]), retain_graph=True)\n",
    "j[0] = x.grad.data\n",
    "\n",
    "x.grad.data.zero_()\n",
    "\n",
    "k.backward(torch.FloatTensor([0,1]))\n",
    "j[1] = x.grad.data\n",
    "\n",
    "print(j)"
   ]
  },
  {
   "cell_type": "code",
   "execution_count": null,
   "metadata": {},
   "outputs": [],
   "source": []
  }
 ],
 "metadata": {
  "kernelspec": {
   "display_name": "Python 3",
   "language": "python",
   "name": "python3"
  },
  "language_info": {
   "codemirror_mode": {
    "name": "ipython",
    "version": 3
   },
   "file_extension": ".py",
   "mimetype": "text/x-python",
   "name": "python",
   "nbconvert_exporter": "python",
   "pygments_lexer": "ipython3",
   "version": "3.6.8"
  }
 },
 "nbformat": 4,
 "nbformat_minor": 2
}
